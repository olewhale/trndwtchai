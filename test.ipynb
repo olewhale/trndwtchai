{
 "cells": [
  {
   "cell_type": "code",
   "execution_count": 2,
   "metadata": {},
   "outputs": [
    {
     "name": "stdout",
     "output_type": "stream",
     "text": [
      "lenght = 9315\n",
      "[link [link нами ваш бизнес всегда в движении! RU [link * EN [link @ [sales@sglogist.org] sales@sglogist.org [sales@sglogist.org] [link [link [link [tel:%20+359-886-474-414] заказать звонок * Главная [link * О Компании [link * Услуги * Контейнерные перевозки [link * СБОРНЫЕ ГРУЗЫ [link * Автоперевозки [link * Авиаперевозки [link * Рассчитать Перевозку [link * Популярные Направления * Беларусь-Европа [link * РФ-Турция [link * Индия – РФ – Индия [link * ОАЭ – РФ – ОАЭ [link * Западная-Восточная Африка – РФ – Африка [link * Cеверная Aфрика – HA – Cеверная Африка [link * Южная Америка – РФ – Южная Америка [link * География Перевозок * Азия [link * Африка [link * Восток [link * Европа [link * Россия [link * Северная Америка [link * Южная Америка [link * Информация [link * Блог * Новости [link * Полезные материалы [link * Контакты [link Menu * Главная [link * О Компании [link * Услуги * Контейнерные перевозки [link * СБОРНЫЕ ГРУЗЫ [link * Автоперевозки [link * Авиаперевозки [link * Рассчитать Перевозку [link * Популярные Направления * Беларусь-Европа [link * РФ-Турция [link * Индия – РФ – Индия [link * ОАЭ – РФ – ОАЭ [link * Западная-Восточная Африка – РФ – Африка [link * Cеверная Aфрика – HA – Cеверная Африка [link * Южная Америка – РФ – Южная Америка [link * География Перевозок * Азия [link * Африка [link * Восток [link * Европа [link * Россия [link * Северная Америка [link * Южная Америка [link * Информация [link * Блог * Новости [link * Полезные материалы [link * Контакты [link [link [link нами ваш бизнес всегда в движении! Онлайн Расчет[link [link [link [sales@sglogist.org] +359-886-474-414 [tel:%20+359-886-474-414] заказать звонок[link [link нами ваш бизнес всегда в движении! @ [sales@sglogist.org] sales@sglogist.org [sales@sglogist.org] [link [link * EN [link [link [link [link [tel:%20+359-886-474-414] заказать звонок[link [link нами ваш бизнес всегда в движении! Онлайн Расчет[link [link нами ваш бизнес всегда в движении! [link [tel:%20+359-886-474-414] заказать звонок@ [sales@sglogist.org] sales@sglogist.org [sales@sglogist.org] RU [link * EN [link [link [link [link [link [link [link [sales@sglogist.org] [link [link МАТЕРИАЛЫ [link РАЗВИТИЯ МИРОВОГО РЫНКА ГРУЗОПЕРЕВОЗОК: ПРОГНОЗ НА БЛИЖАЙШЕЕ БУДУЩЕЕ [/tendentsii-razvitiya-mirovogo-rinka-gruz][link К УПАКОВКЕ ГРУЗОВ В МЕЖДУНАРОДНЫХ ПЕРЕВОЗКАХ [/trebovaniya-k-upakovke-gruzov][link МЕЖДУНАРОДНЫХ АВТОПЕРЕВОЗОК: КАК ОБЕСПЕЧИТЬ БЕЗОПАСНОСТЬ И ЭФФЕКТИВНОСТЬ [/osobennosti-mezhdunarodnykh-avtoperevozok][link [/]С нами ваш бизнес всегда в движении! @ [sales@sglogist.org] sales@sglogist.org [sales@sglogist.org] [link [link [link [tel:%20+359-886-474-414] заказать звонокПользовательское соглашение [/polzovatelskoe-soglashenie]Политика конфедициальности [/pers][link [/]С нами ваш бизнес всегда в движении! +359-886-474-414 [tel:%20+359-886-474-414] заказать звонокПользовательское соглашение [/polzovatelskoe-soglashenie]Политика конфедициальности [/pers][link [link [link [sales@sglogist.org] sales@sglogist.org [sales@sglogist.org] [link [/]С нами ваш бизнес всегда в движении! +359-886-474-414 [tel:%20+359-886-474-414] заказать звонок[link [link [link [sales@sglogist.org] sales@sglogist.org [sales@sglogist.org]Пользовательское соглашение [/polzovatelskoe-soglashenie]Политика конфедициальности [/pers]ЗАКАЗАТЬ ЗВОНОК ЗАКАЗАТЬ ДОСТАВКУ ГРУЗА * Главная [link * О Компании [link * Услуги * Контейнерные перевозки [link * СБОРНЫЕ ГРУЗЫ [link * Автоперевозки [link * Авиаперевозки [link * Рассчитать Перевозку [link * Популярные Направления * Беларусь-Европа [link * РФ-Турция [link * Индия – РФ – Индия [link * ОАЭ – РФ – ОАЭ [link * Западная-Восточная Африка – РФ – Африка [link * Cеверная Aфрика – HA – Cеверная Африка [link * Южная Америка – РФ – Южная Америка [link * География Перевозок * Азия [link * Африка [link * Восток [link * Европа [link * Россия [link * Северная Америка [link * Южная Америка [link * Информация [link * Блог * Новости [link * Полезные материалы [link * Контакты [link\n",
      "lenght result = 3988\n"
     ]
    }
   ],
   "source": [
    "\n",
    "import re\n",
    "text = '''[https://sglogist.com/wp-content/uploads/2024/12/Group_16.svg] [https://sglogist.com]С нами ваш бизнес всегда в движении! RU [https://sglogist.com/polezniye-materialy/] * EN [https://sglogist.com/en/] @ [sales@sglogist.org] sales@sglogist.org [sales@sglogist.org] [https://sglogist.com/wp-content/uploads/2024/12/icon-telegram-4.webp] [https://t.me/denisseliverstoff][https://sglogist.com/wp-content/uploads/2024/12/ico-whatsapp_b.webp] [https://wa.me/+359886476414]+359-886-474-414 [tel:%20+359-886-474-414] заказать звонок * Главная [https://sglogist.com/] * О Компании [https://sglogist.com/about/] * Услуги * Контейнерные перевозки [https://sglogist.com/containerservices/] * СБОРНЫЕ ГРУЗЫ [https://sglogist.com/consolidatescargoes/] * Автоперевозки [https://sglogist.com/landfreight/] * Авиаперевозки [https://sglogist.com/airfreight/] * Рассчитать Перевозку [https://sglogist.com/online-rasschet/] * Популярные Направления * Беларусь-Европа [https://sglogist.com/perevozki-belarus/] * РФ-Турция [https://sglogist.com/euturkey/] * Индия – РФ – Индия [https://sglogist.com/indiaru/] * ОАЭ – РФ – ОАЭ [https://sglogist.com/uaeru/] * Западная-Восточная Африка – РФ – Африка [https://sglogist.com/somethingelse/] * Cеверная Aфрика – HA – Cеверная Африка [https://sglogist.com/n-ru-n/] * Южная Америка – РФ – Южная Америка [https://sglogist.com/u-rf-u/] * География Перевозок * Азия [https://sglogist.com/perevozka-po-azii/] * Африка [https://sglogist.com/perevozka-iz-afriki/] * Восток [https://sglogist.com/logistica-po-vostoky/] * Европа [https://sglogist.com/perevozka-po-ez/] * Россия [https://sglogist.com/perevozki-po-rf/] * Северная Америка [https://sglogist.com/perevozki-po-north-america/] * Южная Америка [https://sglogist.com/perevozki-po-south-america/] * Информация [https://sglogist.com/info/] * Блог * Новости [https://sglogist.com/blog/] * Полезные материалы [https://sglogist.com/polezniye-materialy/] * Контакты [https://sglogist.com/contact/] Menu * Главная [https://sglogist.com/] * О Компании [https://sglogist.com/about/] * Услуги * Контейнерные перевозки [https://sglogist.com/containerservices/] * СБОРНЫЕ ГРУЗЫ [https://sglogist.com/consolidatescargoes/] * Автоперевозки [https://sglogist.com/landfreight/] * Авиаперевозки [https://sglogist.com/airfreight/] * Рассчитать Перевозку [https://sglogist.com/online-rasschet/] * Популярные Направления * Беларусь-Европа [https://sglogist.com/perevozki-belarus/] * РФ-Турция [https://sglogist.com/euturkey/] * Индия – РФ – Индия [https://sglogist.com/indiaru/] * ОАЭ – РФ – ОАЭ [https://sglogist.com/uaeru/] * Западная-Восточная Африка – РФ – Африка [https://sglogist.com/somethingelse/] * Cеверная Aфрика – HA – Cеверная Африка [https://sglogist.com/n-ru-n/] * Южная Америка – РФ – Южная Америка [https://sglogist.com/u-rf-u/] * География Перевозок * Азия [https://sglogist.com/perevozka-po-azii/] * Африка [https://sglogist.com/perevozka-iz-afriki/] * Восток [https://sglogist.com/logistica-po-vostoky/] * Европа [https://sglogist.com/perevozka-po-ez/] * Россия [https://sglogist.com/perevozki-po-rf/] * Северная Америка [https://sglogist.com/perevozki-po-north-america/] * Южная Америка [https://sglogist.com/perevozki-po-south-america/] * Информация [https://sglogist.com/info/] * Блог * Новости [https://sglogist.com/blog/] * Полезные материалы [https://sglogist.com/polezniye-materialy/] * Контакты [https://sglogist.com/contact/] [https://sglogist.com/wp-content/uploads/2024/12/Group_16.svg] [https://sglogist.com]С нами ваш бизнес всегда в движении! Онлайн Расчет[https://sglogist.com/wp-content/uploads/2024/12/icon-telegram-4.webp] [https://t.me/denisseliverstoff][https://sglogist.com/wp-content/uploads/2024/12/ico-whatsapp_b.webp] [https://wa.me/+359886476414]@ [sales@sglogist.org] +359-886-474-414 [tel:%20+359-886-474-414] заказать звонок[https://sglogist.com/wp-content/uploads/2024/12/menu.webp][https://sglogist.com/wp-content/uploads/2024/12/Group_16.svg] [https://sglogist.com]С нами ваш бизнес всегда в движении! @ [sales@sglogist.org] sales@sglogist.org [sales@sglogist.org] [https://sglogist.com/wp-content/uploads/2024/12/menu.webp]RU [https://sglogist.com/polezniye-materialy/] * EN [https://sglogist.com/en/] [https://sglogist.com/wp-content/uploads/2024/12/free-icon-telegram-4.webp] [https://t.me/denisseliverstoff][https://sglogist.com/wp-content/uploads/2024/12/whatsapp_3.webp] [https://wa.me/+359886476414]+359-886-474-414 [tel:%20+359-886-474-414] заказать звонок[https://sglogist.com/wp-content/uploads/2024/12/Group_16.svg] [https://sglogist.com]С нами ваш бизнес всегда в движении! Онлайн Расчет[https://sglogist.com/wp-content/uploads/2024/12/menu.webp][https://sglogist.com/wp-content/uploads/2024/12/Group_16.svg] [https://sglogist.com]С нами ваш бизнес всегда в движении! [https://sglogist.com/wp-content/uploads/2024/12/menu.webp]+359-886-474-414 [tel:%20+359-886-474-414] заказать звонок@ [sales@sglogist.org] sales@sglogist.org [sales@sglogist.org] RU [https://sglogist.com/polezniye-materialy/] * EN [https://sglogist.com/en/] [https://sglogist.com/wp-content/uploads/2024/12/free-icon-telegram-4.webp] [https://t.me/denisseliverstoff][https://sglogist.com/wp-content/uploads/2024/12/whatsapp_3.webp] [https://wa.me/+359886476414][https://sglogist.com/wp-content/uploads/2024/12/Group_16.svg] [https://sglogist.com][https://sglogist.com/wp-content/uploads/2024/12/icon-telegram-4.webp] [https://t.me/denisseliverstoff][https://sglogist.com/wp-content/uploads/2024/12/ico-whatsapp_b.webp] [https://wa.me/+359886476414]@ [sales@sglogist.org] [https://sglogist.com/wp-content/uploads/2024/12/phone-call_1.webp] [https://wa.me/+359886476414][https://sglogist.com/wp-content/uploads/2024/12/menu.webp]ПОЛЕЗНЫЕ МАТЕРИАЛЫ [https://sglogist.com/wp-content/uploads/2024/12/sglogist_________.jpg]ТЕНДЕНЦИИ РАЗВИТИЯ МИРОВОГО РЫНКА ГРУЗОПЕРЕВОЗОК: ПРОГНОЗ НА БЛИЖАЙШЕЕ БУДУЩЕЕ [/tendentsii-razvitiya-mirovogo-rinka-gruz][https://sglogist.com/wp-content/uploads/2024/12/upakovka-gruza-dlya-.jpg]ТРЕБОВАНИЯ К УПАКОВКЕ ГРУЗОВ В МЕЖДУНАРОДНЫХ ПЕРЕВОЗКАХ [/trebovaniya-k-upakovke-gruzov][https://sglogist.com/wp-content/uploads/2024/12/Mezhdunarodnye-gruzo-1024x534.jpg]ОСОБЕННОСТИ МЕЖДУНАРОДНЫХ АВТОПЕРЕВОЗОК: КАК ОБЕСПЕЧИТЬ БЕЗОПАСНОСТЬ И ЭФФЕКТИВНОСТЬ [/osobennosti-mezhdunarodnykh-avtoperevozok][https://sglogist.com/wp-content/uploads/2024/12/logo-footer.svg] [/]С нами ваш бизнес всегда в движении! @ [sales@sglogist.org] sales@sglogist.org [sales@sglogist.org] [https://sglogist.com/wp-content/uploads/2024/12/icon-telegram.webp] [https://t.me/denisseliverstoff][https://sglogist.com/wp-content/uploads/2025/01/icon_whatsapp.png] [https://wa.me/+359886476414]+359-886-474-414 [tel:%20+359-886-474-414] заказать звонокПользовательское соглашение [/polzovatelskoe-soglashenie]Политика конфедициальности [/pers][https://sglogist.com/wp-content/uploads/2024/12/Group_12.svg] [/]С нами ваш бизнес всегда в движении! +359-886-474-414 [tel:%20+359-886-474-414] заказать звонокПользовательское соглашение [/polzovatelskoe-soglashenie]Политика конфедициальности [/pers][https://sglogist.com/wp-content/uploads/2025/01/icon_whatsapp.png] [https://wa.me/+359886476414][https://sglogist.com/wp-content/uploads/2024/12/icon-telegram.webp] [https://t.me/denisseliverstoff]@ [sales@sglogist.org] sales@sglogist.org [sales@sglogist.org] [https://sglogist.com/wp-content/uploads/2024/12/Group_12.svg] [/]С нами ваш бизнес всегда в движении! +359-886-474-414 [tel:%20+359-886-474-414] заказать звонок[https://sglogist.com/wp-content/uploads/2025/01/icon_whatsapp.png] [https://wa.me/+359886476414][https://sglogist.com/wp-content/uploads/2024/12/icon-telegram.webp] [https://t.me/denisseliverstoff]@ [sales@sglogist.org] sales@sglogist.org [sales@sglogist.org]Пользовательское соглашение [/polzovatelskoe-soglashenie]Политика конфедициальности [/pers]ЗАКАЗАТЬ ЗВОНОК ЗАКАЗАТЬ ДОСТАВКУ ГРУЗА * Главная [https://sglogist.com/] * О Компании [https://sglogist.com/about/] * Услуги * Контейнерные перевозки [https://sglogist.com/containerservices/] * СБОРНЫЕ ГРУЗЫ [https://sglogist.com/consolidatescargoes/] * Автоперевозки [https://sglogist.com/landfreight/] * Авиаперевозки [https://sglogist.com/airfreight/] * Рассчитать Перевозку [https://sglogist.com/online-rasschet/] * Популярные Направления * Беларусь-Европа [https://sglogist.com/perevozki-belarus/] * РФ-Турция [https://sglogist.com/euturkey/] * Индия – РФ – Индия [https://sglogist.com/indiaru/] * ОАЭ – РФ – ОАЭ [https://sglogist.com/uaeru/] * Западная-Восточная Африка – РФ – Африка [https://sglogist.com/somethingelse/] * Cеверная Aфрика – HA – Cеверная Африка [https://sglogist.com/n-ru-n/] * Южная Америка – РФ – Южная Америка [https://sglogist.com/u-rf-u/] * География Перевозок * Азия [https://sglogist.com/perevozka-po-azii/] * Африка [https://sglogist.com/perevozka-iz-afriki/] * Восток [https://sglogist.com/logistica-po-vostoky/] * Европа [https://sglogist.com/perevozka-po-ez/] * Россия [https://sglogist.com/perevozki-po-rf/] * Северная Америка [https://sglogist.com/perevozki-po-north-america/] * Южная Америка [https://sglogist.com/perevozki-po-south-america/] * Информация [https://sglogist.com/info/] * Блог * Новости [https://sglogist.com/blog/] * Полезные материалы [https://sglogist.com/polezniye-materialy/] * Контакты [https://sglogist.com/contact/]'''\n",
    "\n",
    "def replace_links(text):\n",
    "    # Regular expression pattern to match URLs\n",
    "    url_pattern = r'https?://(?:www\\.)?\\S+|www\\.\\S+'\n",
    "    \n",
    "    # Replace all URLs with the word 'link'\n",
    "    return re.sub(url_pattern, 'link', text)\n",
    "\n",
    "# Example usage\n",
    "if __name__ == \"__main__\":\n",
    "    sample_text = text\n",
    "    print(f'lenght = {len(text)}')\n",
    "    result = replace_links(sample_text)\n",
    "    print(result)  # Output: Visit link or link for more info.\n",
    "    print(f'lenght result = {len(result)}')"
   ]
  },
  {
   "cell_type": "code",
   "execution_count": 7,
   "metadata": {},
   "outputs": [
    {
     "name": "stdout",
     "output_type": "stream",
     "text": [
      "id: DF5BK6FMJj6   -   username: steuerberater_karacoban   -   play_count: None\n",
      "{\n",
      "    \"id\": \"3564885727645833466_8478482758\",\n",
      "    \"code\": \"DF5BK6FMJj6\",\n",
      "    \"url\": \"https://www.instagram.com/p/DF5BK6FMJj6/\",\n",
      "    \"createdAt\": \"2025-02-10T11:40:16.000Z\",\n",
      "    \"likeCount\": 26,\n",
      "    \"commentCount\": 0,\n",
      "    \"caption\": \"#разводвгермании #бизнесвгермании #налогивгермании #українцівнімеччині #украинцывгермании #роботавнімеччині\",\n",
      "    \"isLikeAndViewCountsDisabled\": false,\n",
      "    \"isPinned\": false,\n",
      "    \"owner\": {\n",
      "        \"id\": \"8478482758\",\n",
      "        \"username\": \"steuerberater_karacoban\",\n",
      "        \"fullName\": \"🇩🇪  налоговый консультант в Германии | бухучет I декларации\",\n",
      "        \"profilePicUrl\": \"https://scontent-waw2-1.cdninstagram.com/v/t51.2885-19/385204501_881556823558401_2796994558402578544_n.jpg?stp=dst-jpg_e0_s150x150_tt6&_nc_ht=scontent-waw2-1.cdninstagram.com&_nc_cat=109&_nc_oc=Q6cZ2AFRbrt0d1j8EgTbPgMxKHksnLUCH3qufh7X0HBcd1HCJC99Rn_KEovWv6wJRNKg440&_nc_ohc=1K1E7TNc0SkQ7kNvgHQVPro&_nc_gid=970e0450bf344cf5b2a63ab7003b6372&edm=ABmJApABAAAA&ccb=7-5&oh=00_AYCA25zMt9bxgXyvpnHtkMeNK8zViWeUxnY8nbmAily6vA&oe=67B8D48E&_nc_sid=b41fef\",\n",
      "        \"isPrivate\": false,\n",
      "        \"isVerified\": false,\n",
      "        \"followerCount\": 3248,\n",
      "        \"followingCount\": 3248\n",
      "    },\n",
      "    \"location\": null,\n",
      "    \"isCarousel\": false,\n",
      "    \"isVideo\": true,\n",
      "    \"video\": {\n",
      "        \"id\": \"992172912791849v\",\n",
      "        \"url\": \"https://scontent-waw2-2.cdninstagram.com/o1/v/t16/f2/m367/AQOvjopveakkVpELluRm2hZ5rluXGWhyAHs2Bb7MdIo7OHIzdJuLdncWRcwkIPu12kcYR7kwtEikogXBPWjIAu8KPdcgtV9JWV1giqY.mp4?efg=eyJ4cHZfYXNzZXRfaWQiOjEzNjQ2Mzg1NDEzMzYwMzgsInZlbmNvZGVfdGFnIjoieHB2X3Byb2dyZXNzaXZlLklOU1RBR1JBTS5JR1RWLkMzLjEwODAuZGFzaF9iYXNlbGluZV8xMDgwcF92MSJ9&_nc_ht=scontent-waw2-2.cdninstagram.com&_nc_cat=105&vs=87fca96ecf542259&_nc_vs=HBkcFQIYQGlnX2VwaGVtZXJhbC9CMzRCRTY3NzkxQTNCNUM0MkVCMEI0MjZGOURGQzQ4MF92aWRlb19kYXNoaW5pdC5tcDQVAALIAQAoABgAGwKIB3VzZV9vaWwBMRJwcm9ncmVzc2l2ZV9yZWNpcGUBMRUAACbMt4a4tcjsBBUCKAJDMywXQBQAAAAAAAAYFmRhc2hfYmFzZWxpbmVfMTA4MHBfdjERAHXsBwA&ccb=9-4&oh=00_AYD3NGVc7Qb2EphyMaYYBSk4PR1vb1divQ3Ojva1MV5M5A&oe=67B4C6DE&_nc_sid=1d576d\",\n",
      "        \"width\": 1080,\n",
      "        \"height\": 1350,\n",
      "        \"duration\": 5,\n",
      "        \"playCount\": null\n",
      "    },\n",
      "    \"image\": {\n",
      "        \"url\": \"https://scontent-waw2-2.cdninstagram.com/v/t51.2885-15/476762187_18263105146282759_5718619291069294977_n.jpg?stp=dst-jpg_e15_p360x360_tt6&efg=eyJ2ZW5jb2RlX3RhZyI6ImltYWdlX3VybGdlbi43MjB4OTAwLnNkci5mNzU3NjEuZGVmYXVsdF9jb3Zlcl9mcmFtZSJ9&_nc_ht=scontent-waw2-2.cdninstagram.com&_nc_cat=107&_nc_oc=Q6cZ2AFRbrt0d1j8EgTbPgMxKHksnLUCH3qufh7X0HBcd1HCJC99Rn_KEovWv6wJRNKg440&_nc_ohc=4wlGjJqKs6EQ7kNvgEs78Of&_nc_gid=970e0450bf344cf5b2a63ab7003b6372&edm=ABmJApABAAAA&ccb=7-5&ig_cache_key=MzU2NDg4NTcyNzY0NTgzMzQ2Ng%3D%3D.3-ccb7-5&oh=00_AYDnhT09N-XX94ZkQqj4M5BGdvuGR5DOfWGF4pLMpHE_1Q&oe=67B8F01E&_nc_sid=b41fef\",\n",
      "        \"width\": 360,\n",
      "        \"height\": 450\n",
      "    },\n",
      "    \"audio\": null\n",
      "}\n"
     ]
    }
   ],
   "source": [
    "import json\n",
    "\n",
    "# Load the JSON file\n",
    "with open('db/23/sternMeister_database_20250217_103409.json', 'r', encoding='utf-8') as file:\n",
    "    data = json.load(file)\n",
    "\n",
    "for reel in data:\n",
    "    username = reel.get('owner', {}).get('username', '')  # Исправлено 'onwer' -> 'owner'\n",
    "    id = reel.get('code', \"\")  # Исправлено 'onwer' -> 'owner'\n",
    "    play_count = reel.get('video', {}).get('playCount', 0) #ВОЗМОЖНО ЭТО ПЛОХО ОТРАБАТЫВАЕТ И ВЫСТАВЛЯЕТ 0\n",
    "    #if username == \"\" or id == \"\" or play_count == 0:\n",
    "    #if play_count == 0:\n",
    "    if not isinstance(play_count,int):\n",
    "        print(f'id: {id}   -   username: {username}   -   play_count: {play_count}')\n",
    "        # ... existing code ...\n",
    "        print(json.dumps(reel, ensure_ascii=False, indent=4))  # Print in JSON format\n",
    "        # ... existing code ..."
   ]
  }
 ],
 "metadata": {
  "kernelspec": {
   "display_name": "venv_win",
   "language": "python",
   "name": "python3"
  },
  "language_info": {
   "codemirror_mode": {
    "name": "ipython",
    "version": 3
   },
   "file_extension": ".py",
   "mimetype": "text/x-python",
   "name": "python",
   "nbconvert_exporter": "python",
   "pygments_lexer": "ipython3",
   "version": "3.10.10"
  }
 },
 "nbformat": 4,
 "nbformat_minor": 2
}
