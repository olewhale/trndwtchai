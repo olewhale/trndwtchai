{
 "cells": [
  {
   "cell_type": "code",
   "execution_count": 18,
   "metadata": {},
   "outputs": [
    {
     "name": "stdout",
     "output_type": "stream",
     "text": [
      "Количество элементов в массиве: 532\n",
      "Количество элементов с videoPlayCount больше 100000: 232\n"
     ]
    },
    {
     "ename": "",
     "evalue": "",
     "output_type": "error",
     "traceback": [
      "\u001b[1;31mThe Kernel crashed while executing code in the current cell or a previous cell. \n",
      "\u001b[1;31mPlease review the code in the cell(s) to identify a possible cause of the failure. \n",
      "\u001b[1;31mClick <a href='https://aka.ms/vscodeJupyterKernelCrash'>here</a> for more info. \n",
      "\u001b[1;31mView Jupyter <a href='command:jupyter.viewOutput'>log</a> for further details."
     ]
    }
   ],
   "source": [
    "import json\n",
    "\n",
    "# Открываем файл и загружаем данные\n",
    "with open('db/12/potok_lifeplus_apify_20241227_001202.json', 'r', encoding='utf-8') as file:\n",
    "    data = json.load(file)\n",
    "\n",
    "# Предполагаем, что данные находятся в корневом массиве\n",
    "element_count = len(data)\n",
    "print(f'Количество элементов в массиве: {element_count}')\n",
    "\n",
    "# Фильтруем элементы с videoPlayCount > 100000\n",
    "filtered_count = sum(1 for item in data if item.get('videoPlayCount') > 100000)\n",
    "\n",
    "print(f'Количество элементов с videoPlayCount больше 100000: {filtered_count}')"
   ]
  },
  {
   "cell_type": "code",
   "execution_count": 11,
   "metadata": {},
   "outputs": [
    {
     "name": "stdout",
     "output_type": "stream",
     "text": [
      "Количество элементов в массиве \"transcriptions\": 216\n"
     ]
    }
   ],
   "source": [
    "import json\n",
    "\n",
    "# Открываем файл и загружаем данные\n",
    "with open('db/12/potok_lifeplus_transcriptions_20241227_001202.json', 'r', encoding='utf-8') as file:\n",
    "    data = json.load(file)\n",
    "\n",
    "# Предполагаем, что данные находятся в корневом словаре\n",
    "# Проверяем наличие ключа \"transcriptions\" и считаем количество элементов\n",
    "if 'transcriptions' in data:\n",
    "    transcription_count = len(data['transcriptions'])\n",
    "else:\n",
    "    transcription_count = 0\n",
    "\n",
    "print(f'Количество элементов в массиве \"transcriptions\": {transcription_count}')"
   ]
  },
  {
   "cell_type": "code",
   "execution_count": null,
   "metadata": {},
   "outputs": [],
   "source": [
    "import json\n",
    "\n",
    "# Открываем файл и загружаем данные\n",
    "with open('db/12/potok_lifeplus_apify_20241227_001202.json', 'r', encoding='utf-8') as file:\n",
    "    data = json.load(file)\n",
    "\n",
    "# Предполагаем, что данные находятся в корневом массиве\n",
    "element_count = len(data)\n",
    "print(f'Количество элементов в массиве: {element_count}')\n",
    "\n",
    "# Извлекаем уникальные значения 'ownerUsername'\n",
    "unique_owner_usernames = set(item['inputUrl'] for item in data if 'inputUrl' in item)\n",
    "# Извлекаем username из каждой ссылки\n",
    "usernames = [link.split('/')[-1] for link in unique_owner_usernames]\n",
    "\n",
    "# Сортируем уникальные значения в алфавитном порядке\n",
    "sorted_usernames = sorted(usernames)\n",
    "\n",
    "# Выводим уникальные значения в столбик\n",
    "print('Уникальные значения ownerUsername в алфавитном порядке:')\n",
    "for username in sorted_usernames:\n",
    "    print(username)"
   ]
  },
  {
   "cell_type": "code",
   "execution_count": null,
   "metadata": {},
   "outputs": [],
   "source": [
    "old = '''\n",
    "gastrosmile\n",
    "dr.shefova\n",
    "kpuctakl\n",
    "ankacheeta\n",
    "baranova__irina\n",
    "magerya_endocrinolog_\n",
    "doctor_polyanina\n",
    "doctorspiridonova\n",
    "dr_ryabichko.v\n",
    "doc_magomedova\n",
    "dr.narzs\n",
    "dr_masgutov_health\n",
    "regina_doctor\n",
    "katerina.novaya\n",
    "una.tuna\n",
    "cardiodok\n",
    "wellness.genetics\n",
    "nelly_petrosian\n",
    "diadoctor_lebedeva\n",
    "anyclass.faceonline\n",
    "doctor_komarovskiy\n",
    "doctor_belokon\n",
    "kronindoc\n",
    "dsemiryadov\n",
    "biouniqum\n",
    "dzari.alex\n",
    "tamilla_amirova\n",
    "dailyom\n",
    "the.holistic.psychologist\n",
    "theworkoutwitch_\n",
    "drmarkhyman\n",
    "thebraincoach\n",
    "thefoodbabe\n",
    "glucosegoddess\n",
    "foundmyfitness\n",
    "genuinely.healthy\n",
    "gutthrives\n",
    "drericberg\n",
    "gutelevate\n",
    "healthy.harbor\n",
    "jaymiemoran\n",
    "fitstars.ru\n",
    "doctor_zubareva\n",
    "fittrwithsquats\n",
    "fastingmd\n",
    "functionhealth\n",
    "dolphinine\n",
    "labifyhealth\n",
    "thewellnesswaylargo\n",
    "planetfitness\n",
    "myfitnesspal\n",
    "ouraring\n",
    "whoop\n",
    "calm\n",
    "betterme\n",
    "luke_coutinho\n",
    "somya_luhadia\n",
    "simrun.chopra\n",
    "soms_g\n",
    "jinals89\n",
    "satvicmovement\n",
    "nmamiagarwal\n",
    "rujuta.diwekar\n",
    "dt.lavleen\n",
    "coachshivangidesai'''\n",
    "\n",
    "# Разбиваем строки на список и сортируем\n",
    "sorted_values = sorted(old.strip().split('\\n'))\n",
    "\n",
    "# Выводим отсортированные значения\n",
    "for value in sorted_values:\n",
    "    print(value)"
   ]
  },
  {
   "cell_type": "code",
   "execution_count": 14,
   "metadata": {},
   "outputs": [
    {
     "name": "stdout",
     "output_type": "stream",
     "text": [
      "Результат: 43.333333333333336\n"
     ]
    }
   ],
   "source": [
    "# Задаем значения\n",
    "a = 2.71\n",
    "b = 1.94\n",
    "\n",
    "# Вычисляем среднее арифметическое\n",
    "average = (a + b) / 2\n",
    "\n",
    "# Умножаем на 200\n",
    "result = 13 * 200 / 60\n",
    "\n",
    "print(f'Результат: {result}')"
   ]
  },
  {
   "cell_type": "code",
   "execution_count": 1,
   "metadata": {},
   "outputs": [
    {
     "name": "stdout",
     "output_type": "stream",
     "text": [
      "Фильтрация завершена. Отфильтрованные данные сохранены в 'filtered_video_play_count.json'.\n"
     ]
    }
   ],
   "source": [
    "import json\n",
    "\n",
    "# Чтение существующего JSON файла\n",
    "with open('db/11/daria_koziakova_apify_20241227_225544.json', 'r', encoding='utf-8') as file:\n",
    "    data = json.load(file)\n",
    "\n",
    "# Фильтрация данных\n",
    "filtered_data = [\n",
    "    item for item in data if 20000 <= item.get('videoPlayCount', 0) < 30000\n",
    "]\n",
    "\n",
    "# Запись отфильтрованных данных в новый JSON файл\n",
    "with open('db/11/daria_koziakova_apify_20241227_225544_20k-30k.json', 'w', encoding='utf-8') as file:\n",
    "    json.dump(filtered_data, file, ensure_ascii=False, indent=4)\n",
    "\n",
    "print(\"Фильтрация завершена. Отфильтрованные данные сохранены в 'filtered_video_play_count.json'.\")"
   ]
  },
  {
   "cell_type": "code",
   "execution_count": null,
   "metadata": {},
   "outputs": [],
   "source": [
    "import json\n",
    "# Открываем файл и загружаем данные\n",
    "with open('db/manual/vart_result_20241224.json', 'r', encoding='utf-8') as file:\n",
    "    data = json.load(file)\n",
    "\n",
    "# Проверяем, что данные являются массивом\n",
    "if isinstance(data, list):\n",
    "    # Выводим элементы массива в столбик\n",
    "    for item in data:\n",
    "        print(item)\n",
    "else:\n",
    "    print(\"Данные не являются массивом.\")"
   ]
  }
 ],
 "metadata": {
  "kernelspec": {
   "display_name": "venv_win",
   "language": "python",
   "name": "python3"
  },
  "language_info": {
   "codemirror_mode": {
    "name": "ipython",
    "version": 3
   },
   "file_extension": ".py",
   "mimetype": "text/x-python",
   "name": "python",
   "nbconvert_exporter": "python",
   "pygments_lexer": "ipython3",
   "version": "3.10.10"
  }
 },
 "nbformat": 4,
 "nbformat_minor": 2
}
