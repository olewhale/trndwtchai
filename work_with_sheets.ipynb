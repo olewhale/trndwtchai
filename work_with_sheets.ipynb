{
 "cells": [
  {
   "cell_type": "code",
   "execution_count": 1,
   "metadata": {},
   "outputs": [],
   "source": [
    "from re import S\n",
    "from fastapi.params import Query\n",
    "import gspread\n",
    "from oauth2client.service_account import ServiceAccountCredentials\n",
    "from dotenv import load_dotenv\n",
    "import os, sys, json, time"
   ]
  },
  {
   "cell_type": "code",
   "execution_count": 14,
   "metadata": {},
   "outputs": [
    {
     "name": "stdout",
     "output_type": "stream",
     "text": [
      "Updated H1 for dashatripls\n",
      "Updated H1 for dr.chshtnv\n",
      "Updated H1 for a.saubanovaa\n",
      "Updated H1 for mellediaaa\n",
      "Updated H1 for elena_shkul\n",
      "Updated H1 for a_mladinov\n",
      "Updated H1 for kseniiagallianova\n",
      "Updated H1 for rbuddy\n",
      "Ошибка в процессе обновления H1 для solokumi: APIError: [403]: The caller does not have permission\n",
      "Updated H1 for vartsergey\n",
      "Updated H1 for daria_koziakova\n",
      "Updated H1 for potok_sociala\n",
      "Updated H1 for potok_lifeplus\n",
      "Updated H1 for potok_theexpertgarden\n",
      "Updated H1 for potok_wifimap\n",
      "Updated H1 for potok_5prizm\n",
      "Updated H1 for potok_progkids\n",
      "Updated H1 for potok_raqobatchilar\n",
      "Updated H1 for potok_germany\n",
      "Updated H1 for potok_kumar&solo\n",
      "Updated H1 for potok_kumi\n",
      "Updated H1 for potok_damir\n",
      "Updated H1 for potok_olya_makarova\n",
      "Updated H1 for potok_maria_ivakova\n",
      "Updated H1 for potok_diana\n",
      "Updated H1 for potok_vkovalevskiy\n",
      "Updated H1 for potok_itboat\n",
      "Updated H1 for potok_ahrapov\n",
      "Updated H1 for sternMeister\n"
     ]
    }
   ],
   "source": [
    "def update_music_info_in_sheets():\n",
    "    \"\"\"\n",
    "    Updates the text in cell H1 to 'music info' for each user's Google Sheet.\n",
    "    \"\"\"\n",
    "    with open(\"db/main/db.json\", \"r\", encoding=\"utf-8\") as file:\n",
    "        table_list = json.load(file)\n",
    "\n",
    "    for index, account in enumerate(table_list[\"accounts\"]):\n",
    "        if index != 0:\n",
    "            try:\n",
    "                # Set up Google Sheets API credentials\n",
    "                scope = [\n",
    "                    \"https://spreadsheets.google.com/feeds\",\n",
    "                    \"https://www.googleapis.com/auth/spreadsheets\",\n",
    "                    \"https://www.googleapis.com/auth/drive.file\",\n",
    "                    \"https://www.googleapis.com/auth/drive\"\n",
    "                ]\n",
    "                credentials = ServiceAccountCredentials.from_json_keyfile_name(\n",
    "                    'static/reelstranscription-a94a4b07252e.json', scope)\n",
    "                client = gspread.authorize(credentials)\n",
    "\n",
    "                # Open the Google Sheet\n",
    "                google_sheet_url = f'https://docs.google.com/spreadsheets/d/{account[\"table_id\"]}/edit?usp=sharing'\n",
    "                sheet = client.open_by_url(google_sheet_url).worksheet('INSTAGRAM')\n",
    "\n",
    "                # Read and print the current value of cell H1\n",
    "                # current_value = sheet.acell('H1').value\n",
    "                # print(f\"Current value in H1 for {index} -  {account['username']}: {current_value}\")\n",
    "\n",
    "                # Update cell H1\n",
    "\n",
    "                sheet.batch_update([\n",
    "                    {\"range\": \"H1\", \"values\": [[\"\"]]},\n",
    "                    {\"range\": \"U1\", \"values\": [[\"music info\"]]}\n",
    "                ])\n",
    "                print(f\"Updated H1 for {account['username']}\")\n",
    "                time.sleep(2)\n",
    "\n",
    "            except Exception as e:\n",
    "                print(f\"Ошибка в процессе обновления H1 для {account['username']}: {e}\")\n",
    "\n",
    "update_music_info_in_sheets()"
   ]
  }
 ],
 "metadata": {
  "kernelspec": {
   "display_name": "venv_win",
   "language": "python",
   "name": "python3"
  },
  "language_info": {
   "codemirror_mode": {
    "name": "ipython",
    "version": 3
   },
   "file_extension": ".py",
   "mimetype": "text/x-python",
   "name": "python",
   "nbconvert_exporter": "python",
   "pygments_lexer": "ipython3",
   "version": "3.10.10"
  }
 },
 "nbformat": 4,
 "nbformat_minor": 2
}
