{
 "cells": [
  {
   "cell_type": "code",
   "execution_count": null,
   "metadata": {},
   "outputs": [],
   "source": [
    "from appium import webdriver\n",
    "\n",
    "desired_caps = {\n",
    "    'platformName': 'Android',\n",
    "    'deviceName': 'Android Emulator',\n",
    "    'appPackage': 'com.instagram.android',  # Пакет Instagram\n",
    "    'appActivity': 'com.instagram.mainactivity.MainActivity',  # Основная активность Instagram\n",
    "}\n",
    "\n",
    "driver = webdriver.Remote('http://localhost:4723/wd/hub', desired_caps)\n",
    "driver.execute_script('mobile: deepLink', {\n",
    "    'url': 'https://www.instagram.com/reel/DEHOUZ1NOVc/',\n",
    "    'package': 'com.instagram.android'\n",
    "})\n"
   ]
  },
  {
   "cell_type": "code",
   "execution_count": 1,
   "metadata": {},
   "outputs": [
    {
     "ename": "ModuleNotFoundError",
     "evalue": "No module named 'uiautomator2'",
     "output_type": "error",
     "traceback": [
      "\u001b[1;31m---------------------------------------------------------------------------\u001b[0m",
      "\u001b[1;31mModuleNotFoundError\u001b[0m                       Traceback (most recent call last)",
      "Cell \u001b[1;32mIn[1], line 1\u001b[0m\n\u001b[1;32m----> 1\u001b[0m \u001b[38;5;28;01mimport\u001b[39;00m \u001b[38;5;21;01muiautomator2\u001b[39;00m \u001b[38;5;28;01mas\u001b[39;00m \u001b[38;5;21;01mu2\u001b[39;00m\n\u001b[0;32m      3\u001b[0m \u001b[38;5;66;03m# Подключение к эмулятору по серийному номеру\u001b[39;00m\n\u001b[0;32m      4\u001b[0m d \u001b[38;5;241m=\u001b[39m u2\u001b[38;5;241m.\u001b[39mconnect(\u001b[38;5;124m'\u001b[39m\u001b[38;5;124memulator-5554\u001b[39m\u001b[38;5;124m'\u001b[39m)\n",
      "\u001b[1;31mModuleNotFoundError\u001b[0m: No module named 'uiautomator2'"
     ]
    }
   ],
   "source": [
    "import uiautomator2 as u2\n",
    "\n",
    "# Подключение к эмулятору по серийному номеру\n",
    "d = u2.connect('emulator-5554')\n",
    "\n",
    "# Проверка подключения\n",
    "print(d.info)"
   ]
  },
  {
   "cell_type": "code",
   "execution_count": null,
   "metadata": {},
   "outputs": [],
   "source": [
    "# Запуск браузера (например, Chrome)\n",
    "d.app_start(\"com.android.chrome\")\n",
    "\n",
    "# Ожидание загрузки приложения\n",
    "d.wait_activity(\".Main\", timeout=10)\n",
    "\n",
    "# Нажатие на строку ввода URL\n",
    "d(resourceId=\"com.android.chrome:id/url_bar\").click()\n",
    "\n",
    "# Ввод URL\n",
    "d.set_text(\"https://www.instagram.com/reel/DEHOUZ1NOVc/\")\n",
    "\n",
    "# Подтверждение (нажатие Enter)\n",
    "d.press(\"enter\")\n"
   ]
  },
  {
   "cell_type": "code",
   "execution_count": null,
   "metadata": {},
   "outputs": [],
   "source": [
    "# Эмитация свайпа\n",
    "from appium.webdriver.common.action_chains import ActionChains\n",
    "\n",
    "def swipe_up(driver, duration=500):\n",
    "    \"\"\"\n",
    "    Эмулирует свайп вверх на экране устройства.\n",
    "    \n",
    "    :param driver: WebDriver объект Appium\n",
    "    :param duration: Длительность свайпа в миллисекундах\n",
    "    \"\"\"\n",
    "    window_size = driver.get_window_size()\n",
    "    start_x = window_size['width'] // 2\n",
    "    start_y = int(window_size['height'] * 0.8)  # Нижняя часть экрана\n",
    "    end_y = int(window_size['height'] * 0.2)    # Верхняя часть экрана\n",
    "    \n",
    "    # Используем W3C Actions API\n",
    "    actions = ActionChains(driver)\n",
    "    actions.w3c_actions.pointer_action.move_to_location(start_x, start_y)\n",
    "    actions.w3c_actions.pointer_action.pointer_down()\n",
    "    actions.w3c_actions.pointer_action.move_to_location(start_x, end_y)\n",
    "    actions.w3c_actions.pointer_action.release()\n",
    "    actions.perform()\n",
    "\n",
    "swipe_up(driver)\n"
   ]
  },
  {
   "cell_type": "code",
   "execution_count": null,
   "metadata": {},
   "outputs": [],
   "source": [
    "                #Пока не сработало нормально\n",
    "# Ожидание загрузки страницы с небольшой рандомизацией\n",
    "                #delay = random.uniform(5, 7)\n",
    "                #time.sleep(delay)\n",
    "\n",
    "                # Пока плохо работает этот вариант с xpath\n",
    "                # logging.info(\"----НАЧАЛИ\")\n",
    "                # try:\n",
    "                #     # Находим элемент и сразу получаем content-desc\n",
    "                #     content_desc = driver.find_element(By.XPATH, \"//android.view.ViewGroup[contains(@content-desc, 'Reshare number is')]\").get_attribute(\"content-desc\")\n",
    "                #     logging.info(f\"----Извлекли content-desc: {content_desc}\")\n",
    "                    \n",
    "                #     # Извлекаем reshare_number из строки\n",
    "                #     reshare_number = re.search(r\"Reshare number is(\\d+)\", content_desc).group(1)\n",
    "                #     logging.info(f\"----Заскрапили его: {reshare_number}\")\n",
    "                #     print(f\"Reshare number: {reshare_number}\")\n",
    "                # except Exception as e:\n",
    "                #     print(f\"Ошибка при driver.find_element: {e}\")\n"
   ]
  },
  {
   "cell_type": "code",
   "execution_count": 11,
   "metadata": {},
   "outputs": [
    {
     "name": "stdout",
     "output_type": "stream",
     "text": [
      "дата = 2024-12-30T14:41:59.000Z\n",
      "2024-12-30\n",
      "дата = 2025-01-03T17:45:00.000Z\n",
      "2025-01-03\n",
      "дата = 2025-01-02T16:15:51.000Z\n",
      "2025-01-02\n",
      "дата = 2025-01-01T14:05:55.000Z\n",
      "2025-01-01\n",
      "shortcode: 7454215158764817672,     time: 2024-12-30T14:41:59.000Z\n",
      "shortcode: 7455679998830169376,     time: 2025-01-03T17:45:00.000Z\n",
      "shortcode: 7455352594173545761,     time: 2025-01-02T16:15:51.000Z\n",
      "shortcode: 7454948018681285921,     time: 2025-01-01T14:05:55.000Z\n"
     ]
    }
   ],
   "source": [
    "# ... existing code ...\n",
    "\n",
    "import json\n",
    "from datetime import datetime, timedelta\n",
    "\n",
    "range_days = \"0-4\"\n",
    "# Если указан диапазон дней\n",
    "if range_days:\n",
    "    start_range, end_range = map(int, range_days.split('-'))\n",
    "    start_of_day = (datetime.now() - timedelta(days=end_range)).date()  # Получаем только дату\n",
    "    end_of_day = (datetime.now() - timedelta(days=start_range)).date()  # Получаем только дату\n",
    "\n",
    "\n",
    "# Загрузка данных из tiktok_test.json\n",
    "with open('db/manual/tiktok_test.json', 'r', encoding='utf-8') as file:\n",
    "    dataset_items = json.load(file)\n",
    "\n",
    "reelsData = []\n",
    "# Фильтруем только рилсы (type='Video'), которые попадают в целевые сутки (позавчера)\n",
    "for item in dataset_items:\n",
    "    print(f\"дата = {item['createTimeISO']}\")\n",
    "    #if 'type' in item and item['type'] == 'Video':\n",
    "    # Парсим время публикации\n",
    "    post_time = datetime.strptime(item['createTimeISO'], \"%Y-%m-%dT%H:%M:%S.%fZ\").date()  # Получаем только дату\n",
    "    print(post_time)\n",
    "    # Проверяем, входит ли пост в диапазон целевых дат\n",
    "    if start_of_day <= post_time <= end_of_day:\n",
    "        reelsData.append(item)\n",
    "\n",
    "for x in reelsData:\n",
    "    print(f\"shortcode: {x['id']},     time: {x['createTimeISO']}\")"
   ]
  },
  {
   "cell_type": "code",
   "execution_count": 12,
   "metadata": {},
   "outputs": [
    {
     "name": "stdout",
     "output_type": "stream",
     "text": [
      "dezzenpunzalan\n"
     ]
    }
   ],
   "source": [
    "# Пример ссылки\n",
    "url = \"https://www.tiktok.com/@dezzenpunzalan/video/7454215158764817672\"\n",
    "\n",
    "# Извлечение username\n",
    "username = url.split('@')[1].split('/')[0]\n",
    "print(username)  # Вывод: dezzenpunzalan"
   ]
  }
 ],
 "metadata": {
  "kernelspec": {
   "display_name": "venv_win",
   "language": "python",
   "name": "python3"
  },
  "language_info": {
   "codemirror_mode": {
    "name": "ipython",
    "version": 3
   },
   "file_extension": ".py",
   "mimetype": "text/x-python",
   "name": "python",
   "nbconvert_exporter": "python",
   "pygments_lexer": "ipython3",
   "version": "3.10.10"
  }
 },
 "nbformat": 4,
 "nbformat_minor": 2
}
